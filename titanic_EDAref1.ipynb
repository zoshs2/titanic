{
 "cells": [
  {
   "cell_type": "code",
   "execution_count": 1,
   "metadata": {},
   "outputs": [],
   "source": [
    "import numpy as np\n",
    "import pandas as pd\n",
    "import os \n",
    "import sys"
   ]
  },
  {
   "cell_type": "code",
   "execution_count": 2,
   "metadata": {
    "scrolled": true
   },
   "outputs": [
    {
     "data": {
      "text/plain": [
       "'/Users/yungi/anaconda3/envs/titanic/bin/python3'"
      ]
     },
     "execution_count": 2,
     "metadata": {},
     "output_type": "execute_result"
    }
   ],
   "source": [
    "sys.executable"
   ]
  },
  {
   "cell_type": "code",
   "execution_count": 8,
   "metadata": {},
   "outputs": [
    {
     "name": "stdout",
     "output_type": "stream",
     "text": [
      "\r\n"
     ]
    }
   ],
   "source": [
    "!echo $JUPYTER_PATH"
   ]
  },
  {
   "cell_type": "code",
   "execution_count": 6,
   "metadata": {},
   "outputs": [
    {
     "name": "stdout",
     "output_type": "stream",
     "text": [
      "Python 3.7.9\r\n"
     ]
    }
   ],
   "source": [
    "!python --version"
   ]
  },
  {
   "cell_type": "code",
   "execution_count": 5,
   "metadata": {
    "scrolled": false
   },
   "outputs": [
    {
     "name": "stdout",
     "output_type": "stream",
     "text": [
      "[ListKernelSpecs] WARNING | Config option `kernel_spec_manager_class` not recognized by `ListKernelSpecs`.\n",
      "Available kernels:\n",
      "  python3    /Users/yungi/Library/Jupyter/kernels/python3\n",
      "  titanic    /Users/yungi/Library/Jupyter/kernels/titanic\n"
     ]
    }
   ],
   "source": [
    "!jupyter kernelspec list"
   ]
  },
  {
   "cell_type": "code",
   "execution_count": 3,
   "metadata": {
    "scrolled": true
   },
   "outputs": [
    {
     "data": {
      "text/plain": [
       "['/Users/yungi/Documents/Hello_Atom/Titanic',\n",
       " '/Users/yungi/anaconda3/envs/titanic/lib/python37.zip',\n",
       " '/Users/yungi/anaconda3/envs/titanic/lib/python3.7',\n",
       " '/Users/yungi/anaconda3/envs/titanic/lib/python3.7/lib-dynload',\n",
       " '',\n",
       " '/Users/yungi/anaconda3/envs/titanic/lib/python3.7/site-packages',\n",
       " '/Users/yungi/anaconda3/envs/titanic/lib/python3.7/site-packages/IPython/extensions',\n",
       " '/Users/yungi/.ipython']"
      ]
     },
     "execution_count": 3,
     "metadata": {},
     "output_type": "execute_result"
    }
   ],
   "source": [
    "sys.path"
   ]
  },
  {
   "cell_type": "code",
   "execution_count": 4,
   "metadata": {},
   "outputs": [],
   "source": [
    "import matplotlib.pyplot as plt\n",
    "import seaborn as sns\n",
    "\n",
    "# Ploty Libraries\n",
    "import plotly.express as px # 중요\n",
    "import plotly.graph_objects as go # 중요\n",
    "import plotly.figure_factory as ff\n",
    "from plotly.colors import n_colors\n",
    "from plotly.subplots import make_subplots"
   ]
  },
  {
   "cell_type": "code",
   "execution_count": 6,
   "metadata": {},
   "outputs": [
    {
     "name": "stdout",
     "output_type": "stream",
     "text": [
      "/Users/yungi/Documents/Hello_Atom/Titanic/inputs/test.csv\n",
      "/Users/yungi/Documents/Hello_Atom/Titanic/inputs/train.csv\n",
      "/Users/yungi/Documents/Hello_Atom/Titanic/inputs/train_and_test2.csv\n"
     ]
    }
   ],
   "source": [
    "for dirname, _, filenames in os.walk(\"/Users/yungi/Documents/Hello_Atom/Titanic/inputs\"):\n",
    "    for filename in filenames:\n",
    "        print(os.path.join(dirname, filename))"
   ]
  },
  {
   "cell_type": "code",
   "execution_count": 7,
   "metadata": {},
   "outputs": [],
   "source": [
    "train_data = pd.read_csv(\"/Users/yungi/Documents/Hello_Atom/Titanic/inputs/train.csv\")\n",
    "test_data = pd.read_csv(\"/Users/yungi/Documents/Hello_Atom/Titanic/inputs/test.csv\")"
   ]
  },
  {
   "cell_type": "code",
   "execution_count": null,
   "metadata": {},
   "outputs": [],
   "source": []
  }
 ],
 "metadata": {
  "kernelspec": {
   "display_name": "Python 3",
   "language": "python",
   "name": "python3"
  },
  "language_info": {
   "codemirror_mode": {
    "name": "ipython",
    "version": 3
   },
   "file_extension": ".py",
   "mimetype": "text/x-python",
   "name": "python",
   "nbconvert_exporter": "python",
   "pygments_lexer": "ipython3",
   "version": "3.7.9"
  }
 },
 "nbformat": 4,
 "nbformat_minor": 4
}
