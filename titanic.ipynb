{
 "metadata": {
  "language_info": {
   "codemirror_mode": {
    "name": "ipython",
    "version": 3
   },
   "file_extension": ".py",
   "mimetype": "text/x-python",
   "name": "python",
   "nbconvert_exporter": "python",
   "pygments_lexer": "ipython3",
   "version": "3.7.9-final"
  },
  "orig_nbformat": 2,
  "kernelspec": {
   "name": "python3",
   "display_name": "Python 3"
  }
 },
 "nbformat": 4,
 "nbformat_minor": 2,
 "cells": [
  {
   "cell_type": "code",
   "execution_count": 1,
   "metadata": {},
   "outputs": [
    {
     "output_type": "stream",
     "name": "stdout",
     "text": [
      "/Users/yungi/Documents/Hello_Atom/Titanic/inputs/train_and_test2.csv\n",
      "   Passengerid   Age     Fare  Sex  sibsp  zero  zero.1  zero.2  zero.3  \\\n",
      "0            1  22.0   7.2500    0      1     0       0       0       0   \n",
      "1            2  38.0  71.2833    1      1     0       0       0       0   \n",
      "2            3  26.0   7.9250    1      0     0       0       0       0   \n",
      "3            4  35.0  53.1000    1      1     0       0       0       0   \n",
      "4            5  35.0   8.0500    0      0     0       0       0       0   \n",
      "\n",
      "   zero.4  ...  zero.12  zero.13  zero.14  Pclass  zero.15  zero.16  Embarked  \\\n",
      "0       0  ...        0        0        0       3        0        0       2.0   \n",
      "1       0  ...        0        0        0       1        0        0       0.0   \n",
      "2       0  ...        0        0        0       3        0        0       2.0   \n",
      "3       0  ...        0        0        0       1        0        0       2.0   \n",
      "4       0  ...        0        0        0       3        0        0       2.0   \n",
      "\n",
      "   zero.17  zero.18  2urvived  \n",
      "0        0        0         0  \n",
      "1        0        0         1  \n",
      "2        0        0         1  \n",
      "3        0        0         1  \n",
      "4        0        0         0  \n",
      "\n",
      "[5 rows x 28 columns]\n"
     ]
    }
   ],
   "source": [
    "'''\n",
    "Overview\n",
    "\n",
    "This is the original data from Titanic competition plus some changes that I applied to it to be better suited for binary logistic regression:\n",
    "\n",
    "1. Merged the train and test data.\n",
    "2. Removed the 'ticket' and 'cabin' attributes.\n",
    "3. Moved the 'Survived' attribute to the last column.\n",
    "4. Added extra zero columns for categorical inputs to be better suited for One-Hot-Encoding.\n",
    "5. Substituted the values of 'Sex' and 'Embarked' attributes with binary and categorical values respectively.\n",
    "6. Filled the missing values in 'Age' and 'Fare' attributes with the median of the data.\n",
    "'''\n",
    "\n",
    "import os # Operating System Control\n",
    "import pandas as pd # Data Processing\n",
    "import numpy as np # Linear Algebra\n",
    "\n",
    "# os.system(\"pwd\")\n",
    "# /Users/yungi/Documents/Hello_Atom/Titanic\n",
    "for dirname, _, filenames in os.walk(\"/Users/yungi/Documents/Hello_Atom/Titanic/inputs\"):\n",
    "    for filename in filenames:\n",
    "        print(os.path.join(dirname, filename))\n",
    "\n",
    "data = pd.read_csv(\"/Users/yungi/Documents/Hello_Atom/Titanic/inputs/train_and_test2.csv\")\n",
    "\n",
    "## Importing Libraries\n",
    "import matplotlib.pyplot as plt\n",
    "import seaborn as sns\n",
    "\n",
    "## Modeling Libraries\n",
    "from sklearn.linear_model import LinearRegression, LogisticRegression\n",
    "from sklearn.neighbors import KNeighborsClassifier\n",
    "from sklearn.tree import DecisionTreeClassifier # Study\n",
    "from sklearn.ensemble import RandomForestClassifier # Study\n",
    "## Evaluate Model\n",
    "from sklearn.metrics import confusion_matrix, roc_curve\n",
    "\n",
    "## Data Preprocessing\n",
    "print(data.head())"
   ]
  },
  {
   "cell_type": "code",
   "execution_count": null,
   "metadata": {},
   "outputs": [],
   "source": []
  }
 ]
}